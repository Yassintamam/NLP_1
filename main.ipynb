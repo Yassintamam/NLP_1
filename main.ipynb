{
 "cells": [
  {
   "cell_type": "code",
   "execution_count": 2,
   "metadata": {
    "collapsed": true
   },
   "outputs": [],
   "source": [
    "from datasets import load_dataset\n",
    "import numpy as np\n",
    "from collections import defaultdict\n",
    "dataset = load_dataset(\"sst\", \"default\")"
   ]
  },
  {
   "cell_type": "code",
   "execution_count": 3,
   "outputs": [],
   "source": [
    "#naive bayes\n",
    "def train_naive_bayes(D, C):\n",
    "    N_doc = len(D)\n",
    "    logprior = {}\n",
    "    loglikelihood = {}\n",
    "    V = set()\n",
    "    bigdoc = defaultdict(list)\n",
    "\n",
    "    # Calculate logprior\n",
    "    for c in C:\n",
    "         D_c = [doc_tokens for doc_tokens, cl in D if cl == c]\n",
    "         N_c = len(D_c)\n",
    "         logprior[c] = np.log(N_c / N_doc)\n",
    "         for doc in D_c:\n",
    "             bigdoc[c] += doc\n",
    "             V.update(doc)\n",
    "\n",
    "    V = list(V)\n",
    "\n",
    "    # Calculate loglikelihood\n",
    "    for w in V:\n",
    "        for c in C:\n",
    "            count_w_c = sum(doc.count(w) for doc in bigdoc[c])\n",
    "            loglikelihood[(w, c)] = np.log((count_w_c + 1) / (sum(bigdoc[c].count(w) for w in V) + len(V)))\n",
    "\n",
    "    return logprior, loglikelihood, V\n",
    "\n",
    "def test_naive_bayes(testdoc, logprior, loglikelihood, C, V):\n",
    "    sum_scores = {c: logprior[c] for c in C}\n",
    "    for word in testdoc:\n",
    "        if word in V:\n",
    "            for c in C:\n",
    "                sum_scores[c] += loglikelihood.get((word, c), 0)\n",
    "    return max(sum_scores, key=sum_scores.get)\n"
   ],
   "metadata": {
    "collapsed": false
   }
  },
  {
   "cell_type": "code",
   "execution_count": 4,
   "outputs": [],
   "source": [
    "classes = {\n",
    "    0: \"Very Negative\",\n",
    "    1: \"Negative\",\n",
    "    2: \"Neutral\",\n",
    "    3: \"Positive\",\n",
    "    4: \"Very Positive\",\n",
    "}\n",
    "def map_dataset(data):\n",
    "    if data <= 0.2:\n",
    "        return 0  # very negative\n",
    "    elif data <= 0.4:\n",
    "        return 1  # negative\n",
    "    elif data <= 0.6:\n",
    "        return 2  # neutral\n",
    "    elif data <= 0.8:\n",
    "        return 3  # positive\n",
    "    else:\n",
    "        return 4  # very positive\n",
    "\n",
    "def data_to_tokens(data):\n",
    "    documents = []\n",
    "    for entry in data:\n",
    "        tokens = entry['tokens'].split(\"|\")\n",
    "        label = map_dataset(entry['label'])\n",
    "        documents.append((tokens, label))\n",
    "    return documents\n",
    "\n"
   ],
   "metadata": {
    "collapsed": false
   }
  },
  {
   "cell_type": "code",
   "execution_count": null,
   "outputs": [],
   "source": [
    "# Prepare training and testing data\n",
    "train_documents = data_to_tokens(dataset['train'])\n",
    "test_documents = data_to_tokens(dataset['test'])\n",
    "\n",
    "# Train Naive Bayes classifier\n",
    "logprior, loglikelihood, vocab_list = train_naive_bayes(train_documents, [0, 1, 2, 3, 4])\n",
    "\n",
    "# Test the classifier on the test dataset\n",
    "correct_predictions = 0\n",
    "total_predictions = len(test_documents)\n",
    "\n",
    "for doc_tokens, actual_class in test_documents:\n",
    "    predicted_class = test_naive_bayes(doc_tokens, logprior, loglikelihood, [0, 1, 2, 3, 4], vocab_list)\n",
    "    if predicted_class == actual_class:\n",
    "        correct_predictions += 1\n",
    "\n",
    "# Calculate accuracy\n",
    "accuracy = correct_predictions / total_predictions\n",
    "print(\"Accuracy:\", accuracy)\n",
    "# Test the classifier on a sample document\n",
    "random_phrase = \"This movie was fantastic! I loved every minute of it.\"\n",
    "random_score = np.random.uniform(0, 1)\n",
    "actual_class = map_dataset(random_score)\n",
    "predicted_class = test_naive_bayes(random_phrase.split(), logprior, loglikelihood, [0, 1, 2, 3, 4], vocab_list)\n",
    "print(\"Random phrase:\", random_phrase)\n",
    "print(\"Predicted class:\", predicted_class)\n",
    "print(\"Actual class:\", actual_class)"
   ],
   "metadata": {
    "collapsed": false,
    "pycharm": {
     "is_executing": true
    }
   }
  }
 ],
 "metadata": {
  "kernelspec": {
   "display_name": "Python 3",
   "language": "python",
   "name": "python3"
  },
  "language_info": {
   "codemirror_mode": {
    "name": "ipython",
    "version": 2
   },
   "file_extension": ".py",
   "mimetype": "text/x-python",
   "name": "python",
   "nbconvert_exporter": "python",
   "pygments_lexer": "ipython2",
   "version": "2.7.6"
  }
 },
 "nbformat": 4,
 "nbformat_minor": 0
}
