{
 "cells": [
  {
   "cell_type": "code",
   "execution_count": 45,
   "metadata": {
    "collapsed": true
   },
   "outputs": [],
   "source": [
    "from datasets import load_dataset\n",
    "import numpy as np\n",
    "from collections import defaultdict\n",
    "from tabulate import tabulate"
   ]
  },
  {
   "cell_type": "code",
   "execution_count": 46,
   "outputs": [],
   "source": [
    "# Load dataset\n",
    "dataset = load_dataset(\"sst\", \"default\")"
   ],
   "metadata": {
    "collapsed": false
   }
  },
  {
   "cell_type": "code",
   "execution_count": 47,
   "outputs": [],
   "source": [
    "# Naive Bayes training function\n",
    "def train_naive_bayes(D, C):\n",
    "    N_doc = len(D)\n",
    "    logprior = {}\n",
    "    loglikelihood = {}\n",
    "    V = set()\n",
    "    bigdoc = defaultdict(list)\n",
    "    word_counts_per_class = defaultdict(lambda: defaultdict(int))\n",
    "\n",
    "    # Calculate logprior and collect documents for each class\n",
    "    for c in C:\n",
    "        D_c = [doc_tokens for doc_tokens, cl in D if cl == c]\n",
    "        N_c = len(D_c)\n",
    "        logprior[c] = np.log(N_c / N_doc)\n",
    "        for doc in D_c:\n",
    "            bigdoc[c] += doc\n",
    "            V.update(doc)\n",
    "            for word in doc:\n",
    "                word_counts_per_class[word][c] += 1\n",
    "\n",
    "    V = list(V)\n",
    "\n",
    "    # Calculate loglikelihood\n",
    "    for w in V:\n",
    "        for c in C:\n",
    "            count_w_c = word_counts_per_class[w][c]\n",
    "            loglikelihood[(w, c)] = np.log((count_w_c + 1) / (sum(word_counts_per_class[w].values()) + len(V)))\n",
    "\n",
    "    return logprior, loglikelihood, V\n",
    "\n",
    "# Naive Bayes testing function\n",
    "def test_naive_bayes(testdoc, logprior, loglikelihood, C, V):\n",
    "    sum_scores = {c: logprior[c] for c in C}\n",
    "    for word in testdoc:\n",
    "        if word in V:\n",
    "            for c in C:\n",
    "                sum_scores[c] += loglikelihood.get((word, c), 0)\n",
    "    return max(sum_scores, key=sum_scores.get)"
   ],
   "metadata": {
    "collapsed": false
   }
  },
  {
   "cell_type": "code",
   "execution_count": 48,
   "outputs": [],
   "source": [
    "# Define sentiment classes\n",
    "classes = {\n",
    "    0: \"Very Negative\",\n",
    "    1: \"Negative\",\n",
    "    2: \"Neutral\",\n",
    "    3: \"Positive\",\n",
    "    4: \"Very Positive\",\n",
    "}\n",
    "\n",
    "# Map dataset labels to sentiment classes\n",
    "def map_dataset(data):\n",
    "    if data <= 0.2:\n",
    "        return 0  # very negative\n",
    "    elif data <= 0.4:\n",
    "        return 1  # negative\n",
    "    elif data <= 0.6:\n",
    "        return 2  # neutral\n",
    "    elif data <= 0.8:\n",
    "        return 3  # positive\n",
    "    else:\n",
    "        return 4  # very positive\n",
    "\n",
    "# Convert dataset entries to tokens\n",
    "def data_to_tokens(data):\n",
    "    documents = []\n",
    "    for entry in data:\n",
    "        tokens = entry['tokens'].split(\"|\")\n",
    "        label = map_dataset(entry['label'])\n",
    "        documents.append((tokens, label))\n",
    "    return documents"
   ],
   "metadata": {
    "collapsed": false
   }
  },
  {
   "cell_type": "code",
   "execution_count": 49,
   "outputs": [],
   "source": [
    "# Prepare training and testing data\n",
    "train_documents = data_to_tokens(dataset['train'])\n",
    "test_documents = data_to_tokens(dataset['test'])"
   ],
   "metadata": {
    "collapsed": false
   }
  },
  {
   "cell_type": "code",
   "execution_count": 50,
   "outputs": [
    {
     "name": "stdout",
     "output_type": "stream",
     "text": [
      "Accuracy: 0.36742081447963804\n",
      "Random phrase: This movie was fantastic! I loved every minute of it.\n",
      "Predicted class: 1\n",
      "Actual class: 1\n"
     ]
    }
   ],
   "source": [
    "# Train Naive Bayes classifier\n",
    "logprior, loglikelihood, vocab_list = train_naive_bayes(train_documents, [0, 1, 2, 3, 4])\n",
    "\n",
    "# Test the classifier on the test dataset\n",
    "correct_predictions = 0\n",
    "total_predictions = len(test_documents)\n",
    "\n",
    "# Initialize variables for precision, recall, and F1 score\n",
    "true_positives = defaultdict(int)\n",
    "false_positives = defaultdict(int)\n",
    "false_negatives = defaultdict(int)\n",
    "\n",
    "for doc_tokens, actual_class in test_documents:\n",
    "    predicted_class = test_naive_bayes(doc_tokens, logprior, loglikelihood, [0, 1, 2, 3, 4], vocab_list)\n",
    "    if predicted_class == actual_class:\n",
    "        true_positives[actual_class] += 1\n",
    "        correct_predictions += 1\n",
    "    else:\n",
    "        false_positives[predicted_class] += 1\n",
    "        false_negatives[actual_class] += 1\n",
    "\n",
    "# Calculate accuracy\n",
    "accuracy = correct_predictions / total_predictions\n",
    "print(\"Accuracy:\", accuracy)\n",
    "\n",
    "# Test the classifier on a sample document\n",
    "random_phrase = \"This movie was fantastic! I loved every minute of it.\"\n",
    "random_score = np.random.uniform(0, 1)\n",
    "actual_class = map_dataset(random_score)\n",
    "predicted_class = test_naive_bayes(random_phrase.split(), logprior, loglikelihood, [0, 1, 2, 3, 4], vocab_list)\n",
    "print(\"Random phrase:\", random_phrase)\n",
    "print(\"Predicted class:\", predicted_class)\n",
    "print(\"Actual class:\", actual_class)"
   ],
   "metadata": {
    "collapsed": false
   }
  },
  {
   "cell_type": "code",
   "execution_count": 51,
   "outputs": [
    {
     "name": "stdout",
     "output_type": "stream",
     "text": [
      "\n",
      "Precision:\n",
      "+---------------+-------------+\n",
      "| Class         |   Precision |\n",
      "+===============+=============+\n",
      "| Very Negative |    0        |\n",
      "+---------------+-------------+\n",
      "| Negative      |    0.462611 |\n",
      "+---------------+-------------+\n",
      "| Neutral       |    0.666667 |\n",
      "+---------------+-------------+\n",
      "| Positive      |    0.312102 |\n",
      "+---------------+-------------+\n",
      "| Very Positive |    1        |\n",
      "+---------------+-------------+\n",
      "| Macro-average |    0.488276 |\n",
      "+---------------+-------------+\n",
      "\n",
      "Recall:\n",
      "+---------------+------------+\n",
      "| Class         |     Recall |\n",
      "+===============+============+\n",
      "| Very Negative | 0          |\n",
      "+---------------+------------+\n",
      "| Negative      | 0.576619   |\n",
      "+---------------+------------+\n",
      "| Neutral       | 0.0102828  |\n",
      "+---------------+------------+\n",
      "| Positive      | 0.864706   |\n",
      "+---------------+------------+\n",
      "| Very Positive | 0.00501253 |\n",
      "+---------------+------------+\n",
      "| Macro-average | 0.291324   |\n",
      "+---------------+------------+\n",
      "\n",
      "F1 Score:\n",
      "+---------------+------------+\n",
      "| Class         |   F1 Score |\n",
      "+===============+============+\n",
      "| Very Negative | 0          |\n",
      "+---------------+------------+\n",
      "| Negative      | 0.513361   |\n",
      "+---------------+------------+\n",
      "| Neutral       | 0.0202532  |\n",
      "+---------------+------------+\n",
      "| Positive      | 0.458658   |\n",
      "+---------------+------------+\n",
      "| Very Positive | 0.00997506 |\n",
      "+---------------+------------+\n",
      "| Macro-average | 0.20045    |\n",
      "+---------------+------------+\n"
     ]
    }
   ],
   "source": [
    "# Calculate precision, recall, and F1 score for each class\n",
    "precision = {}\n",
    "recall = {}\n",
    "f1_score = {}\n",
    "\n",
    "for c in classes:\n",
    "    if true_positives[c] == 0:\n",
    "        precision[c] = 0\n",
    "        recall[c] = 0\n",
    "        f1_score[c] = 0\n",
    "    else:\n",
    "        precision[c] = true_positives[c] / (true_positives[c] + false_positives[c])\n",
    "        recall[c] = true_positives[c] / (true_positives[c] + false_negatives[c])\n",
    "        f1_score[c] = 2 * (precision[c] * recall[c]) / (precision[c] + recall[c])\n",
    "\n",
    "# Calculate macro-average precision, recall, and F1 score\n",
    "macro_precision = sum(precision.values()) / len(precision)\n",
    "macro_recall = sum(recall.values()) / len(recall)\n",
    "macro_f1_score = sum(f1_score.values()) / len(f1_score)\n",
    "\n",
    "# Convert precision, recall, and F1 score dictionaries to lists of tuples for tabulate\n",
    "precision_table = [(classes[c], precision[c]) for c in classes]\n",
    "recall_table = [(classes[c], recall[c]) for c in classes]\n",
    "f1_score_table = [(classes[c], f1_score[c]) for c in classes]\n",
    "\n",
    "# Add macro-average values to the tables\n",
    "precision_table.append((\"Macro-average\", macro_precision))\n",
    "recall_table.append((\"Macro-average\", macro_recall))\n",
    "f1_score_table.append((\"Macro-average\", macro_f1_score))\n",
    "\n",
    "# Print precision, recall, and F1 score tables\n",
    "print(\"\\nPrecision:\")\n",
    "print(tabulate(precision_table, headers=[\"Class\", \"Precision\"], tablefmt=\"grid\"))\n",
    "\n",
    "print(\"\\nRecall:\")\n",
    "print(tabulate(recall_table, headers=[\"Class\", \"Recall\"], tablefmt=\"grid\"))\n",
    "\n",
    "print(\"\\nF1 Score:\")\n",
    "print(tabulate(f1_score_table, headers=[\"Class\", \"F1 Score\"], tablefmt=\"grid\"))"
   ],
   "metadata": {
    "collapsed": false
   }
  },
  {
   "cell_type": "code",
   "execution_count": 73,
   "outputs": [
    {
     "name": "stdout",
     "output_type": "stream",
     "text": [
      "Accuracy using scikit-learn: 0.4090497737556561\n"
     ]
    }
   ],
   "source": [
    "#comparison with sklearn\n",
    "from sklearn.feature_extraction.text import CountVectorizer\n",
    "from sklearn.naive_bayes import MultinomialNB\n",
    "from sklearn.pipeline import Pipeline\n",
    "from sklearn.metrics import accuracy_score\n",
    "\n",
    "# Prepare training and testing data\n",
    "train_texts = [' '.join(tokens) for tokens, _ in train_documents]\n",
    "test_texts = [' '.join(tokens) for tokens, _ in test_documents]\n",
    "train_labels = [label for _, label in train_documents]\n",
    "test_labels = [label for _, label in test_documents]\n",
    "\n",
    "# Define the pipeline\n",
    "pipeline = Pipeline([\n",
    "    ('vectorizer', CountVectorizer()),\n",
    "    ('classifier', MultinomialNB(alpha=1.0))\n",
    "])\n",
    "\n",
    "# Train the classifier\n",
    "pipeline.fit(train_texts, train_labels)\n",
    "\n",
    "# Predict on the test set\n",
    "predicted_labels = pipeline.predict(test_texts)\n",
    "\n",
    "# Calculate accuracy\n",
    "accuracy = accuracy_score(test_labels, predicted_labels)\n",
    "print(\"Accuracy using scikit-learn:\", accuracy)\n"
   ],
   "metadata": {
    "collapsed": false
   }
  },
  {
   "cell_type": "code",
   "execution_count": 74,
   "outputs": [],
   "source": [
    "# Logistic regression\n",
    "# Feature representation\n",
    "def create_bigrams(text):\n",
    "    bigrams = []\n",
    "    for i in range(len(text) - 1):\n",
    "        bigram = (text[i], text[i + 1])\n",
    "        bigrams.append(bigram)\n",
    "    return bigrams\n",
    "\n",
    "def create_bigram_features(data):\n",
    "    all_bigrams_set = set()\n",
    "    bigram_counts = defaultdict(int)\n",
    "\n",
    "    for doc in data:\n",
    "        text = doc['tokens']\n",
    "        doc_bigrams = create_bigrams(text)\n",
    "        all_bigrams_set.update(doc_bigrams)\n",
    "        for bigram in doc_bigrams:\n",
    "            bigram_counts[bigram] += 1\n",
    "\n",
    "    return list(all_bigrams_set), bigram_counts\n",
    "\n",
    "def vectorize_features(data, vocabulary):\n",
    "    X = np.zeros((len(data), len(vocabulary)), dtype=np.uint8)\n",
    "\n",
    "    for i, doc in enumerate(data):\n",
    "        text = doc['tokens']\n",
    "        doc_bigrams = create_bigrams(text)\n",
    "        for j, bigram in enumerate(vocabulary):\n",
    "            if bigram in doc_bigrams:\n",
    "                X[i, j] = 1\n",
    "\n",
    "    return X"
   ],
   "metadata": {
    "collapsed": false
   }
  },
  {
   "cell_type": "code",
   "execution_count": 75,
   "outputs": [],
   "source": [
    "class LogisticRegression:\n",
    "    def __init__(self, learning_rate=0.1, num_iterations=100):\n",
    "        self.learning_rate = learning_rate\n",
    "        self.num_iterations = num_iterations\n",
    "        self.weights = None\n",
    "        self.bias = None\n",
    "\n",
    "    def sigmoid(self, z):\n",
    "        return 1 / (1 + np.exp(-z))\n",
    "\n",
    "    def fit(self, X, y):\n",
    "        num_samples, num_features = X.shape\n",
    "        self.weights = np.zeros(num_features)\n",
    "        self.bias = 0\n",
    "\n",
    "        for _ in range(self.num_iterations):\n",
    "            linear_model = np.dot(X, self.weights) + self.bias\n",
    "            y_pred = self.sigmoid(linear_model)\n",
    "\n",
    "            dw = (1 / num_samples) * np.dot(X.T, (y_pred - y))\n",
    "            db = (1 / num_samples) * np.sum(y_pred - y)\n",
    "\n",
    "            self.weights -= self.learning_rate * dw\n",
    "            self.bias -= self.learning_rate * db\n",
    "\n",
    "    def predict(self, X):\n",
    "        linear_model = np.dot(X, self.weights) + self.bias\n",
    "        y_pred = self.sigmoid(linear_model)\n",
    "        y_pred_class = [1 if i > 0.5 else 0 for i in y_pred]\n",
    "        return np.array(y_pred_class)"
   ],
   "metadata": {
    "collapsed": false
   }
  },
  {
   "cell_type": "code",
   "execution_count": 76,
   "outputs": [
    {
     "name": "stdout",
     "output_type": "stream",
     "text": [
      "Train Accuracy: 0.0029260299625468167\n",
      "Test Accuracy: 0.0027149321266968325\n"
     ]
    }
   ],
   "source": [
    "train_data = dataset[\"train\"]\n",
    "test_data = dataset[\"test\"]\n",
    "vocabulary, _ = create_bigram_features(train_data)\n",
    "\n",
    "# Vectorize features\n",
    "X_train = vectorize_features(train_data, vocabulary)\n",
    "y_train = np.array([doc['label'] for doc in train_data])\n",
    "\n",
    "# Initialize and train logistic regression model\n",
    "model = LogisticRegression()\n",
    "model.fit(X_train, y_train)\n",
    "\n",
    "# Train accuracy\n",
    "train_predictions = model.predict(X_train)\n",
    "train_accuracy = np.mean(train_predictions == y_train)\n",
    "print(\"Train Accuracy:\", train_accuracy)\n",
    "\n",
    "# Test data\n",
    "X_test = vectorize_features(test_data, vocabulary)\n",
    "y_test = np.array([doc['label'] for doc in test_data])\n",
    "\n",
    "# Test accuracy\n",
    "test_predictions = model.predict(X_test)\n",
    "test_accuracy = np.mean(test_predictions == y_test)\n",
    "print(\"Test Accuracy:\", test_accuracy)"
   ],
   "metadata": {
    "collapsed": false
   }
  },
  {
   "cell_type": "code",
   "execution_count": 82,
   "outputs": [
    {
     "name": "stdout",
     "output_type": "stream",
     "text": [
      "Accuracy of Logistic Regression: 0.35339366515837106\n",
      "Accuracy of SGDClassifier for Logistic Regression: 0.334841628959276\n"
     ]
    }
   ],
   "source": [
    "from sklearn.feature_extraction.text import CountVectorizer\n",
    "from sklearn.linear_model import LogisticRegression, SGDClassifier\n",
    "from sklearn.metrics import accuracy_score\n",
    "\n",
    "# Preprocessing and data preparation\n",
    "X_train_texts = [' '.join(doc[0]) for doc in train_documents]\n",
    "y_train = [doc[1] for doc in train_documents]\n",
    "X_test_texts = [' '.join(doc[0]) for doc in test_documents]\n",
    "y_test = [doc[1] for doc in test_documents]\n",
    "\n",
    "# Initialize CountVectorizer\n",
    "vectorizer = CountVectorizer(ngram_range=(2, 2))\n",
    "\n",
    "# Vectorize the training and test data\n",
    "X_train_vectorized = vectorizer.fit_transform(X_train_texts)\n",
    "X_test_vectorized = vectorizer.transform(X_test_texts)\n",
    "\n",
    "# Train logistic regression model\n",
    "model = LogisticRegression(max_iter=1000)\n",
    "model.fit(X_train_vectorized, y_train)\n",
    "\n",
    "# Predictions\n",
    "y_pred_logistic_regression = model.predict(X_test_vectorized)\n",
    "accuracy_logistic_regression = accuracy_score(y_test, y_pred_logistic_regression)\n",
    "print(\"Accuracy of Logistic Regression:\", accuracy_logistic_regression)\n",
    "\n",
    "# Compare with SGDClassifier\n",
    "sgd = SGDClassifier()\n",
    "sgd.fit(X_train_vectorized, y_train)\n",
    "\n",
    "y_pred_sgd = sgd.predict(X_test_vectorized)\n",
    "accuracy_sgd = accuracy_score(y_test, y_pred_sgd)\n",
    "print(\"Accuracy of SGDClassifier for Logistic Regression:\", accuracy_sgd)"
   ],
   "metadata": {
    "collapsed": false
   }
  },
  {
   "cell_type": "code",
   "execution_count": 83,
   "outputs": [
    {
     "name": "stdout",
     "output_type": "stream",
     "text": [
      "Precision per class: [0.33333333 0.39354067 0.20503597 0.3370098  0.48837209]\n",
      "Recall per class: [0.12903226 0.51974724 0.14652956 0.53921569 0.21052632]\n",
      "F1 score per class: [0.18604651 0.44792376 0.17091454 0.4147813  0.29422067]\n",
      "Macro-averaged precision: 0.35145837427152776\n",
      "Macro-averaged recall: 0.3090102116995101\n",
      "Macro-averaged F1 score: 0.3027773549296352\n"
     ]
    }
   ],
   "source": [
    "#confusion matrix\n",
    "import numpy as np\n",
    "\n",
    "def confusion_matrix(y_true, y_pred, num_classes):\n",
    "    matrix = np.zeros((num_classes, num_classes), dtype=int)\n",
    "    for true_label, pred_label in zip(y_true, y_pred):\n",
    "        matrix[true_label][pred_label] += 1\n",
    "    return matrix\n",
    "\n",
    "def precision_recall_f1(conf_matrix):\n",
    "    num_classes = conf_matrix.shape[0]\n",
    "    precision = np.zeros(num_classes)\n",
    "    recall = np.zeros(num_classes)\n",
    "    f1_score = np.zeros(num_classes)\n",
    "\n",
    "    for i in range(num_classes):\n",
    "        true_positives = conf_matrix[i, i]\n",
    "        false_positives = np.sum(conf_matrix[:, i]) - true_positives\n",
    "        false_negatives = np.sum(conf_matrix[i, :]) - true_positives\n",
    "\n",
    "        precision[i] = true_positives / (true_positives + false_positives) if (true_positives + false_positives) != 0 else 0\n",
    "        recall[i] = true_positives / (true_positives + false_negatives) if (true_positives + false_negatives) != 0 else 0\n",
    "        f1_score[i] = 2 * (precision[i] * recall[i]) / (precision[i] + recall[i]) if (precision[i] + recall[i]) != 0 else 0\n",
    "\n",
    "    macro_precision = np.mean(precision)\n",
    "    macro_recall = np.mean(recall)\n",
    "    macro_f1_score = np.mean(f1_score)\n",
    "\n",
    "    return precision, recall, f1_score, macro_precision, macro_recall, macro_f1_score\n",
    "\n",
    "# Generate confusion matrix\n",
    "conf_matrix = confusion_matrix(y_test, y_pred_logistic_regression, num_classes=5)\n",
    "\n",
    "# Compute precision, recall, and F1 score\n",
    "precision, recall, f1_score, macro_precision, macro_recall, macro_f1_score = precision_recall_f1(conf_matrix)\n",
    "\n",
    "# Print the results\n",
    "print(\"Precision per class:\", precision)\n",
    "print(\"Recall per class:\", recall)\n",
    "print(\"F1 score per class:\", f1_score)\n",
    "print(\"Macro-averaged precision:\", macro_precision)\n",
    "print(\"Macro-averaged recall:\", macro_recall)\n",
    "print(\"Macro-averaged F1 score:\", macro_f1_score)"
   ],
   "metadata": {
    "collapsed": false
   }
  },
  {
   "cell_type": "code",
   "execution_count": 85,
   "outputs": [
    {
     "data": {
      "text/plain": "<Figure size 800x600 with 2 Axes>",
      "image/png": "[encoded data removed]"
     },
     "metadata": {},
     "output_type": "display_data"
    }
   ],
   "source": [
    "import seaborn as sns\n",
    "import matplotlib.pyplot as plt\n",
    "from sklearn.metrics import confusion_matrix\n",
    "\n",
    "# Assuming y_true and y_pred are your true and predicted labels\n",
    "# Compute confusion matrix\n",
    "cm = confusion_matrix(y_test, y_pred_logistic_regression)\n",
    "\n",
    "# Plot confusion matrix\n",
    "plt.figure(figsize=(8, 6))\n",
    "sns.set(font_scale=1.2)  # Adjust font size for better visualization\n",
    "sns.heatmap(cm, annot=True, fmt='g', cmap='Blues',\n",
    "            xticklabels=classes.values(), yticklabels=classes.values(),\n",
    "            cbar_kws={'label': 'Count'})\n",
    "plt.xlabel('Predicted Label')\n",
    "plt.ylabel('True Label')\n",
    "plt.title('Confusion Matrix')\n",
    "plt.show()"
   ],
   "metadata": {
    "collapsed": false
   }
  }
 ],
 "metadata": {
  "kernelspec": {
   "display_name": "Python 3",
   "language": "python",
   "name": "python3"
  },
  "language_info": {
   "codemirror_mode": {
    "name": "ipython",
    "version": 2
   },
   "file_extension": ".py",
   "mimetype": "text/x-python",
   "name": "python",
   "nbconvert_exporter": "python",
   "pygments_lexer": "ipython2",
   "version": "2.7.6"
  }
 },
 "nbformat": 4,
 "nbformat_minor": 0
}
