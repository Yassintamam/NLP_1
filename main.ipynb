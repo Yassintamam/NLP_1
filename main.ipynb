{
 "cells": [
  {
   "cell_type": "code",
   "execution_count": 24,
   "metadata": {
    "collapsed": true
   },
   "outputs": [],
   "source": [
    "from datasets import load_dataset\n",
    "import numpy as np\n",
    "from collections import defaultdict\n",
    "dataset = load_dataset(\"sst\", \"default\")"
   ]
  },
  {
   "cell_type": "code",
   "execution_count": 25,
   "outputs": [],
   "source": [
    "#naive bayes\n",
    "def train_naive_bayes(D, C):\n",
    "    N_doc = len(D)\n",
    "    logprior = {}\n",
    "    loglikelihood = {}\n",
    "    V = set()\n",
    "    bigdoc = defaultdict(list)\n",
    "    word_counts_per_class = defaultdict(lambda: defaultdict(int))\n",
    "\n",
    "    # Calculate logprior and collect documents for each class\n",
    "    for c in C:\n",
    "        D_c = [doc_tokens for doc_tokens, cl in D if cl == c]\n",
    "        N_c = len(D_c)\n",
    "        logprior[c] = np.log(N_c / N_doc)\n",
    "        for doc in D_c:\n",
    "            bigdoc[c] += doc\n",
    "            V.update(doc)\n",
    "            for word in doc:\n",
    "                word_counts_per_class[word][c] += 1\n",
    "\n",
    "    V = list(V)\n",
    "\n",
    "    # Calculate loglikelihood\n",
    "    for w in V:\n",
    "        for c in C:\n",
    "            count_w_c = word_counts_per_class[w][c]\n",
    "            loglikelihood[(w, c)] = np.log((count_w_c + 1) / (sum(word_counts_per_class[w].values()) + len(V)))\n",
    "\n",
    "    return logprior, loglikelihood, V\n",
    "\n",
    "def test_naive_bayes(testdoc, logprior, loglikelihood, C, V):\n",
    "    sum_scores = {c: logprior[c] for c in C}\n",
    "    for word in testdoc:\n",
    "        if word in V:\n",
    "            for c in C:\n",
    "                sum_scores[c] += loglikelihood.get((word, c), 0)\n",
    "    return max(sum_scores, key=sum_scores.get)"
   ],
   "metadata": {
    "collapsed": false
   }
  },
  {
   "cell_type": "code",
   "execution_count": 26,
   "outputs": [],
   "source": [
    "classes = {\n",
    "    0: \"Very Negative\",\n",
    "    1: \"Negative\",\n",
    "    2: \"Neutral\",\n",
    "    3: \"Positive\",\n",
    "    4: \"Very Positive\",\n",
    "}\n",
    "def map_dataset(data):\n",
    "    if data <= 0.2:\n",
    "        return 0  # very negative\n",
    "    elif data <= 0.4:\n",
    "        return 1  # negative\n",
    "    elif data <= 0.6:\n",
    "        return 2  # neutral\n",
    "    elif data <= 0.8:\n",
    "        return 3  # positive\n",
    "    else:\n",
    "        return 4  # very positive\n",
    "def data_to_tokens(data):\n",
    "    documents = []\n",
    "    for entry in data:\n",
    "        tokens = entry['tokens'].split(\"|\")\n",
    "        label = map_dataset(entry['label'])\n",
    "        documents.append((tokens, label))\n",
    "    return documents"
   ],
   "metadata": {
    "collapsed": false
   }
  },
  {
   "cell_type": "code",
   "execution_count": 27,
   "outputs": [],
   "source": [
    "# Prepare training and testing data\n",
    "train_documents = data_to_tokens(dataset['train'])\n",
    "test_documents = data_to_tokens(dataset['test'])"
   ],
   "metadata": {
    "collapsed": false
   }
  },
  {
   "cell_type": "code",
   "execution_count": 28,
   "outputs": [
    {
     "name": "stdout",
     "output_type": "stream",
     "text": [
      "Accuracy: 0.36742081447963804\n",
      "Random phrase: This movie was fantastic! I loved every minute of it.\n",
      "Predicted class: 1\n",
      "Actual class: 0\n"
     ]
    }
   ],
   "source": [
    "# Train Naive Bayes classifier\n",
    "logprior, loglikelihood, vocab_list = train_naive_bayes(train_documents, [0, 1, 2, 3, 4])\n",
    "\n",
    "# Test the classifier on the test dataset\n",
    "correct_predictions = 0\n",
    "total_predictions = len(test_documents)\n",
    "\n",
    "for doc_tokens, actual_class in test_documents:\n",
    "    predicted_class = test_naive_bayes(doc_tokens, logprior, loglikelihood, [0, 1, 2, 3, 4], vocab_list)\n",
    "    if predicted_class == actual_class:\n",
    "        correct_predictions += 1\n",
    "\n",
    "# Calculate accuracy\n",
    "accuracy = correct_predictions / total_predictions\n",
    "print(\"Accuracy:\", accuracy)\n",
    "\n",
    "# Test the classifier on a sample document\n",
    "random_phrase = \"This movie was fantastic! I loved every minute of it.\"\n",
    "random_score = np.random.uniform(0, 1)\n",
    "actual_class = map_dataset(random_score)\n",
    "predicted_class = test_naive_bayes(random_phrase.split(), logprior, loglikelihood, [0, 1, 2, 3, 4], vocab_list)\n",
    "print(\"Random phrase:\", random_phrase)\n",
    "print(\"Predicted class:\", predicted_class)\n",
    "print(\"Actual class:\", actual_class)"
   ],
   "metadata": {
    "collapsed": false
   }
  },
  {
   "cell_type": "code",
   "execution_count": 29,
   "outputs": [
    {
     "name": "stdout",
     "output_type": "stream",
     "text": [
      "Accuracy using scikit-learn: 0.4090497737556561\n"
     ]
    }
   ],
   "source": [
    "#comparison with sklearn\n",
    "from sklearn.feature_extraction.text import CountVectorizer\n",
    "from sklearn.naive_bayes import MultinomialNB\n",
    "from sklearn.pipeline import Pipeline\n",
    "from sklearn.metrics import accuracy_score\n",
    "\n",
    "# Prepare training and testing data\n",
    "train_texts = [' '.join(tokens) for tokens, _ in train_documents]\n",
    "test_texts = [' '.join(tokens) for tokens, _ in test_documents]\n",
    "train_labels = [label for _, label in train_documents]\n",
    "test_labels = [label for _, label in test_documents]\n",
    "\n",
    "# Define the pipeline\n",
    "pipeline = Pipeline([\n",
    "    ('vectorizer', CountVectorizer()),\n",
    "    ('classifier', MultinomialNB(alpha=1.0))\n",
    "])\n",
    "\n",
    "# Train the classifier\n",
    "pipeline.fit(train_texts, train_labels)\n",
    "\n",
    "# Predict on the test set\n",
    "predicted_labels = pipeline.predict(test_texts)\n",
    "\n",
    "# Calculate accuracy\n",
    "accuracy = accuracy_score(test_labels, predicted_labels)\n",
    "print(\"Accuracy using scikit-learn:\", accuracy)\n"
   ],
   "metadata": {
    "collapsed": false
   }
  },
  {
   "cell_type": "code",
   "execution_count": 34,
   "outputs": [],
   "source": [
    "#logistic regression\n",
    "# Feature representation\n",
    "def generate_word_bigrams(sentence):\n",
    "    words = sentence.split()\n",
    "    return [(words[i], words[i+1]) for i in range(len(words)-1)]\n",
    "\n",
    "def generate_features(sentences, ):\n",
    "    unique_bigrams = set()\n",
    "    for sentence in sentences:\n",
    "        bigrams = generate_word_bigrams(sentence)\n",
    "        unique_bigrams.update(bigrams)\n",
    "    unique_bigrams = sorted(list(unique_bigrams))\n",
    "    features = np.zeros((len(sentences), len(unique_bigrams)), dtype=int)\n",
    "    for i, sentence in enumerate(sentences):\n",
    "        bigrams = generate_word_bigrams(sentence)\n",
    "        for j, bigram in enumerate(unique_bigrams):\n",
    "            if bigram in bigrams:\n",
    "                features[i, j] = 1\n",
    "    return features\n",
    "\n",
    "\n",
    "# Sigmoid function\n",
    "def sigmoid(z):\n",
    "    return 1 / (1 + np.exp(-z))\n"
   ],
   "metadata": {
    "collapsed": false
   }
  },
  {
   "cell_type": "code",
   "execution_count": 31,
   "outputs": [],
   "source": [
    "# Model Training\n",
    "def train_logistic_regression(X, y, learning_rate, num_iterations):\n",
    "    m, n = X.shape\n",
    "    theta = np.zeros((n, 1))\n",
    "    for i in range(num_iterations):\n",
    "        z = np.dot(X, theta)\n",
    "        h = sigmoid(z)\n",
    "        gradient = np.dot(X.T, (h - y)) / m\n",
    "        theta -= learning_rate * gradient\n",
    "    return theta"
   ],
   "metadata": {
    "collapsed": false
   }
  },
  {
   "cell_type": "code",
   "execution_count": 32,
   "outputs": [],
   "source": [
    "# Prediction\n",
    "def predict(X, theta):\n",
    "    z = np.dot(X, theta)\n",
    "    h = sigmoid(z)\n",
    "    return (h >= 0.5).astype(int)\n",
    "\n",
    "# Evaluation\n",
    "def accuracy(y_true, y_pred):\n",
    "    return np.mean(y_true == y_pred)\n"
   ],
   "metadata": {
    "collapsed": false
   }
  },
  {
   "cell_type": "code",
   "execution_count": 33,
   "outputs": [
    {
     "ename": "ValueError",
     "evalue": "shapes (1,3) and (8,1) not aligned: 3 (dim 1) != 8 (dim 0)",
     "output_type": "error",
     "traceback": [
      "\u001B[1;31m---------------------------------------------------------------------------\u001B[0m",
      "\u001B[1;31mValueError\u001B[0m                                Traceback (most recent call last)",
      "Cell \u001B[1;32mIn[33], line 13\u001B[0m\n\u001B[0;32m     11\u001B[0m \u001B[38;5;66;03m# Example prediction\u001B[39;00m\n\u001B[0;32m     12\u001B[0m X_test \u001B[38;5;241m=\u001B[39m generate_features([\u001B[38;5;124m\"\u001B[39m\u001B[38;5;124mI hate this movie\u001B[39m\u001B[38;5;124m\"\u001B[39m])\n\u001B[1;32m---> 13\u001B[0m y_pred \u001B[38;5;241m=\u001B[39m \u001B[43mpredict\u001B[49m\u001B[43m(\u001B[49m\u001B[43mX_test\u001B[49m\u001B[43m,\u001B[49m\u001B[43m \u001B[49m\u001B[43mtheta\u001B[49m\u001B[43m)\u001B[49m\n\u001B[0;32m     14\u001B[0m \u001B[38;5;28mprint\u001B[39m(\u001B[38;5;124m\"\u001B[39m\u001B[38;5;124mPredicted label:\u001B[39m\u001B[38;5;124m\"\u001B[39m, y_pred[\u001B[38;5;241m0\u001B[39m])  \u001B[38;5;66;03m# Output: 0 (negative)\u001B[39;00m\n\u001B[0;32m     16\u001B[0m \u001B[38;5;66;03m# Example evaluation\u001B[39;00m\n",
      "Cell \u001B[1;32mIn[32], line 3\u001B[0m, in \u001B[0;36mpredict\u001B[1;34m(X, theta)\u001B[0m\n\u001B[0;32m      2\u001B[0m \u001B[38;5;28;01mdef\u001B[39;00m \u001B[38;5;21mpredict\u001B[39m(X, theta):\n\u001B[1;32m----> 3\u001B[0m     z \u001B[38;5;241m=\u001B[39m \u001B[43mnp\u001B[49m\u001B[38;5;241;43m.\u001B[39;49m\u001B[43mdot\u001B[49m\u001B[43m(\u001B[49m\u001B[43mX\u001B[49m\u001B[43m,\u001B[49m\u001B[43m \u001B[49m\u001B[43mtheta\u001B[49m\u001B[43m)\u001B[49m\n\u001B[0;32m      4\u001B[0m     h \u001B[38;5;241m=\u001B[39m sigmoid(z)\n\u001B[0;32m      5\u001B[0m     \u001B[38;5;28;01mreturn\u001B[39;00m (h \u001B[38;5;241m>\u001B[39m\u001B[38;5;241m=\u001B[39m \u001B[38;5;241m0.5\u001B[39m)\u001B[38;5;241m.\u001B[39mastype(\u001B[38;5;28mint\u001B[39m)\n",
      "\u001B[1;31mValueError\u001B[0m: shapes (1,3) and (8,1) not aligned: 3 (dim 1) != 8 (dim 0)"
     ]
    }
   ],
   "source": [
    "# Example usage\n",
    "sentences = [\"I love this movie very much\", \"This movie is great\"]\n",
    "X_train = generate_features(sentences)\n",
    "y_train = np.array([1, 0])  # Example labels\n",
    "y_train = y_train.reshape(-1, 1)  # Reshape y_train to match theta dimensions\n",
    "\n",
    "# Train logistic regression\n",
    "learning_rate = 0.01\n",
    "num_iterations = 1000\n",
    "theta = train_logistic_regression(X_train, y_train, learning_rate, num_iterations)\n",
    "\n",
    "# Example prediction\n",
    "X_test = generate_features([\"I hate this movie\"])\n",
    "y_pred = predict(X_test, theta)\n",
    "print(\"Predicted label:\", y_pred[0])  # Output: 0 (negative)\n",
    "\n",
    "# Example evaluation\n",
    "accuracy_score = accuracy(y_train, predict(X_train, theta))\n",
    "print(\"Training accuracy:\", accuracy_score)"
   ],
   "metadata": {
    "collapsed": false
   }
  }
 ],
 "metadata": {
  "kernelspec": {
   "display_name": "Python 3",
   "language": "python",
   "name": "python3"
  },
  "language_info": {
   "codemirror_mode": {
    "name": "ipython",
    "version": 2
   },
   "file_extension": ".py",
   "mimetype": "text/x-python",
   "name": "python",
   "nbconvert_exporter": "python",
   "pygments_lexer": "ipython2",
   "version": "2.7.6"
  }
 },
 "nbformat": 4,
 "nbformat_minor": 0
}
